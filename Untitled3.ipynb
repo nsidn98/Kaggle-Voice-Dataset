{
 "cells": [
  {
   "cell_type": "code",
   "execution_count": 1,
   "metadata": {},
   "outputs": [],
   "source": [
    "import numpy as np\n",
    "import matplotlib.pyplot as plt\n",
    "import pandas as pd\n",
    "from sklearn.neural_network import MLPClassifier\n",
    "from sklearn.metrics import accuracy_score\n",
    "from sklearn.preprocessing import StandardScaler\n",
    "from sklearn.linear_model import LogisticRegression\n",
    "from sklearn.model_selection import train_test_split\n",
    "\n",
    "df=pd.read_csv('~/Downloads/voice.csv')   # reading the file as a csv\n",
    "\n",
    "\n",
    "# to check for Nan values\n",
    "df.isnull().sum()\n",
    "\n",
    "\n",
    "y=[]\n",
    "\n",
    "# encoding male=1 and female=0 \n",
    "for i in range(len(df.label)):\n",
    "  if df.label[i]=='male':\n",
    "    y.append(1)\n",
    "  elif df.label[i]=='female':\n",
    "    y.append(0)\n",
    " \n",
    "df=df.drop('label',axis=1) # drop th ecolumn with labels\n",
    "X_train,X_test,y_train,y_test=train_test_split(df,y,test_size=0.3,random_state=0)\n",
    "\n",
    "stdSc=StandardScaler() #preprocessing\n",
    "X_train=stdSc.fit_transform(X_train)\n",
    "X_test=stdSc.fit_transform(X_test)\n"
   ]
  },
  {
   "cell_type": "raw",
   "metadata": {},
   "source": []
  },
  {
   "cell_type": "code",
   "execution_count": 140,
   "metadata": {},
   "outputs": [
    {
     "name": "stdout",
     "output_type": "stream",
     "text": [
      "0.840168243954\n",
      "0.913774973712\n",
      "0.963196635121\n",
      "0.975814931651\n",
      "0.977917981073\n",
      "0.975814931651\n",
      "0.975814931651\n",
      "0.975814931651\n"
     ]
    }
   ],
   "source": [
    "#using logistic regression\n",
    "C=[0.0001,0.001,0.01,0.1,1,10,100,1000]\n",
    "for i in enumerate(C):\n",
    "    lr=LogisticRegression(C=i[1])\n",
    "    lr.fit(X_train,y_train)\n",
    "    print(accuracy_score(lr.predict(X_test),y_test))\n",
    "\n"
   ]
  },
  {
   "cell_type": "code",
   "execution_count": 90,
   "metadata": {},
   "outputs": [
    {
     "name": "stdout",
     "output_type": "stream",
     "text": [
      "0.989484752892\n"
     ]
    }
   ],
   "source": [
    "#using Multi layer perceptron\n",
    "from sklearn.neural_network import MLPClassifier\n",
    "clf=MLPClassifier(solver='lbfgs',alpha=11,hidden_layer_sizes=(400,3),random_state=1)\n",
    "clf.fit(X_train,y_train)\n",
    "print(accuracy_score(clf.predict(X_test),y_test))"
   ]
  },
  {
   "cell_type": "code",
   "execution_count": 100,
   "metadata": {},
   "outputs": [
    {
     "name": "stdout",
     "output_type": "stream",
     "text": [
      "0.952681388013\n",
      "0.967402733964\n"
     ]
    }
   ],
   "source": [
    "#using decision tree\n",
    "from sklearn import tree\n",
    "tr=tree.DecisionTreeClassifier(criterion='gini')\n",
    "tr2=tree.DecisionTreeClassifier(criterion='entropy')\n",
    "tr.fit(X_train,y_train)\n",
    "tr2.fit(X_train,y_train)\n",
    "\n",
    "print(accuracy_score(tr.predict(X_test),y_test))\n",
    "print(accuracy_score(tr2.predict(X_test),y_test))\n"
   ]
  },
  {
   "cell_type": "code",
   "execution_count": 98,
   "metadata": {},
   "outputs": [
    {
     "name": "stdout",
     "output_type": "stream",
     "text": [
      "0.988433228181\n"
     ]
    }
   ],
   "source": [
    "#Using SVM\n",
    "from sklearn import svm\n",
    "\n",
    "\n",
    "clf1=svm.SVC(C=2,kernel='rbf')\n",
    "clf1.fit(X_train,y_train)\n",
    "print(accuracy_score(clf1.predict(X_test),y_test))"
   ]
  },
  {
   "cell_type": "code",
   "execution_count": 97,
   "metadata": {},
   "outputs": [
    {
     "name": "stdout",
     "output_type": "stream",
     "text": [
      "0.892744479495\n"
     ]
    }
   ],
   "source": [
    "#using naive bayes\n",
    "from sklearn.naive_bayes import GaussianNB\n",
    "gnb=GaussianNB()\n",
    "y_pred=gnb.fit(X_train,y_train).predict(X_test)\n",
    "print(((y_pred == y_test).sum())/len(y_pred))"
   ]
  },
  {
   "cell_type": "code",
   "execution_count": 118,
   "metadata": {},
   "outputs": [
    {
     "name": "stdout",
     "output_type": "stream",
     "text": [
      "0.970557308097\n",
      "0.970557308097\n",
      "0.977917981073\n",
      "0.976866456362\n",
      "0.977917981073\n",
      "0.981072555205\n",
      "0.975814931651\n",
      "0.975814931651\n",
      "0.97476340694\n"
     ]
    }
   ],
   "source": [
    "#using k-nearest neighbours\n",
    "from sklearn.neighbors import KNeighborsClassifier\n",
    "for i in range (1,10):\n",
    "    knn=KNeighborsClassifier(n_neighbors=i)\n",
    "    knn.fit(X_train,y_train)\n",
    "    print(accuracy_score(knn.predict(X_test),y_test))"
   ]
  },
  {
   "cell_type": "code",
   "execution_count": 117,
   "metadata": {},
   "outputs": [
    {
     "name": "stdout",
     "output_type": "stream",
     "text": [
      "0.48054679285\n",
      "0.365930599369\n",
      "0.369085173502\n",
      "0.377497371188\n",
      "0.170347003155\n",
      "0.298633017876\n",
      "0.219768664564\n",
      "0.436382754995\n",
      "0.055730809674\n"
     ]
    }
   ],
   "source": [
    "#using k-means clusterring\n",
    "from sklearn.cluster import KMeans\n",
    "for i in range(1,10):\n",
    "    km=KMeans(n_clusters=i)\n",
    "    km.fit(X_train,y_train)\n",
    "    print(accuracy_score(km.predict(X_test),y_test))"
   ]
  },
  {
   "cell_type": "code",
   "execution_count": 123,
   "metadata": {},
   "outputs": [
    {
     "name": "stdout",
     "output_type": "stream",
     "text": [
      "0.986330178759\n",
      "0.982124079916\n",
      "0.981072555205\n",
      "0.97476340694\n",
      "0.981072555205\n",
      "0.981072555205\n",
      "0.982124079916\n",
      "0.978969505783\n",
      "0.97476340694\n",
      "0.981072555205\n",
      "0.981072555205\n",
      "0.977917981073\n",
      "0.981072555205\n",
      "0.977917981073\n",
      "0.980021030494\n",
      "0.984227129338\n",
      "0.982124079916\n",
      "0.983175604627\n",
      "0.975814931651\n"
     ]
    }
   ],
   "source": [
    "#using random forest\n",
    "from sklearn.ensemble import RandomForestClassifier\n",
    "for i in range(1,20):\n",
    "    rfc=RandomForestClassifier(n_estimators=10)\n",
    "    rfc.fit(X_train,y_train)\n",
    "    print(accuracy_score(rfc.predict(X_test),y_test))\n",
    "#subject to changes in the accuracy as it is random:p     "
   ]
  },
  {
   "cell_type": "code",
   "execution_count": 137,
   "metadata": {},
   "outputs": [
    {
     "name": "stdout",
     "output_type": "stream",
     "text": [
      "0.983175604627\n"
     ]
    }
   ],
   "source": [
    "#using gradient boosting\n",
    "from sklearn.ensemble import GradientBoostingClassifier\n",
    "\n",
    "  \n",
    "model= GradientBoostingClassifier(n_estimators=100, learning_rate=1, max_depth=1, random_state=0)\n",
    "model.fit(X_train,y_train)\n",
    "print(accuracy_score(model.predict(X_test),y_test))\n",
    "     "
   ]
  },
  {
   "cell_type": "code",
   "execution_count": null,
   "metadata": {
    "collapsed": true
   },
   "outputs": [],
   "source": []
  }
 ],
 "metadata": {
  "kernelspec": {
   "display_name": "Python 3",
   "language": "python",
   "name": "python3"
  },
  "language_info": {
   "codemirror_mode": {
    "name": "ipython",
    "version": 3
   },
   "file_extension": ".py",
   "mimetype": "text/x-python",
   "name": "python",
   "nbconvert_exporter": "python",
   "pygments_lexer": "ipython3",
   "version": "3.6.2"
  }
 },
 "nbformat": 4,
 "nbformat_minor": 2
}
